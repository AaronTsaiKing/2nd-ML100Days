{
 "cells": [
  {
   "cell_type": "code",
   "execution_count": 1,
   "metadata": {},
   "outputs": [],
   "source": [
    "#作業3\n",
    "def mean_square_error(y,yp):\n",
    "    mse=MSE=sum((y-yp)**2)/len(y)\n",
    "    return mse\n"
   ]
  },
  {
   "cell_type": "code",
   "execution_count": null,
   "metadata": {},
   "outputs": [],
   "source": [
    "作業1  (Competition) Two Sigma: Using News to Predict Stock Movements\n",
    "1. 因為有新聞有股價相關資訊才能分析比較，並找出關聯性。\n",
    "2. Market data (2007 to present) provided by Intrinio, News data (2007 to present) Source: Thomson Reuters \n",
    "3. Kernels-only data file\n",
    "4. 分析資料並篩選出有相關性的資料\n",
    "\n",
    "作業2\n",
    "1. 透過數據分析出哪個時段在哪個地區需要坐計程車的人最多\n",
    "2. 交通部的車流量資訊/上網搜尋資料\n",
    "3. csv\n",
    "4. 看分析出的時間與地點是否與其他的時間地點的乘計程車需求多, 可以透過實際到現場抽樣觀察\n",
    "\n"
   ]
  }
 ],
 "metadata": {
  "kernelspec": {
   "display_name": "Python 3",
   "language": "python",
   "name": "python3"
  },
  "language_info": {
   "codemirror_mode": {
    "name": "ipython",
    "version": 3
   },
   "file_extension": ".py",
   "mimetype": "text/x-python",
   "name": "python",
   "nbconvert_exporter": "python",
   "pygments_lexer": "ipython3",
   "version": "3.7.3"
  }
 },
 "nbformat": 4,
 "nbformat_minor": 2
}
